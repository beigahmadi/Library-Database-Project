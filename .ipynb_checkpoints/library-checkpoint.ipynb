{
 "cells": [
  {
   "cell_type": "code",
   "execution_count": 2,
   "id": "099f44b1-82de-4c06-a246-dc2a73453557",
   "metadata": {},
   "outputs": [],
   "source": [
    "%load_ext sql"
   ]
  },
  {
   "cell_type": "code",
   "execution_count": 3,
   "id": "18694a35-51fc-4352-88e0-6fca3c2d1233",
   "metadata": {},
   "outputs": [
    {
     "data": {
      "text/html": [
       "<span style=\"None\">Connecting to &#x27;sqlite:///library.db&#x27;</span>"
      ],
      "text/plain": [
       "Connecting to 'sqlite:///library.db'"
      ]
     },
     "metadata": {},
     "output_type": "display_data"
    }
   ],
   "source": [
    "%sql sqlite:///library.db"
   ]
  },
  {
   "cell_type": "code",
   "execution_count": 5,
   "id": "4eef1ac6-fbbc-479a-bb11-d633863f4339",
   "metadata": {},
   "outputs": [
    {
     "data": {
      "text/html": [
       "<span style=\"None\">Running query in &#x27;sqlite:///library.db&#x27;</span>"
      ],
      "text/plain": [
       "Running query in 'sqlite:///library.db'"
      ]
     },
     "metadata": {},
     "output_type": "display_data"
    },
    {
     "data": {
      "text/html": [
       "<table>\n",
       "    <thead>\n",
       "        <tr>\n",
       "        </tr>\n",
       "    </thead>\n",
       "    <tbody>\n",
       "    </tbody>\n",
       "</table>"
      ],
      "text/plain": [
       "++\n",
       "||\n",
       "++\n",
       "++"
      ]
     },
     "execution_count": 5,
     "metadata": {},
     "output_type": "execute_result"
    }
   ],
   "source": [
    "%%sql\n",
    "CREATE TABLE Catalog(\n",
    "\titem_id INTEGER PRIMARY KEY AUTOINCREMENT,\n",
    "\titem_type TEXT,\n",
    "\ttitle TEXT,\n",
    "\tpublication_date DATE,\n",
    "\tauthor_or_artist TEXT,\n",
    "\tpublisher TEXT\n",
    ")"
   ]
  },
  {
   "cell_type": "code",
   "execution_count": 6,
   "id": "9dc68110-2fca-4edf-8384-70ff76222b5e",
   "metadata": {},
   "outputs": [
    {
     "data": {
      "text/html": [
       "<span style=\"None\">Running query in &#x27;sqlite:///library.db&#x27;</span>"
      ],
      "text/plain": [
       "Running query in 'sqlite:///library.db'"
      ]
     },
     "metadata": {},
     "output_type": "display_data"
    },
    {
     "data": {
      "text/html": [
       "<table>\n",
       "    <thead>\n",
       "        <tr>\n",
       "            <th>item_id</th>\n",
       "            <th>item_type</th>\n",
       "            <th>title</th>\n",
       "            <th>publication_date</th>\n",
       "            <th>author_or_artist</th>\n",
       "            <th>publisher</th>\n",
       "        </tr>\n",
       "    </thead>\n",
       "    <tbody>\n",
       "    </tbody>\n",
       "</table>"
      ],
      "text/plain": [
       "+---------+-----------+-------+------------------+------------------+-----------+\n",
       "| item_id | item_type | title | publication_date | author_or_artist | publisher |\n",
       "+---------+-----------+-------+------------------+------------------+-----------+\n",
       "+---------+-----------+-------+------------------+------------------+-----------+"
      ]
     },
     "execution_count": 6,
     "metadata": {},
     "output_type": "execute_result"
    }
   ],
   "source": [
    "%sql SELECT * FROM Catalog"
   ]
  },
  {
   "cell_type": "code",
   "execution_count": 9,
   "id": "1ed9679b-32ab-48fe-b4bb-15c06c77918b",
   "metadata": {},
   "outputs": [
    {
     "data": {
      "text/html": [
       "<span style=\"None\">Running query in &#x27;sqlite:///library.db&#x27;</span>"
      ],
      "text/plain": [
       "Running query in 'sqlite:///library.db'"
      ]
     },
     "metadata": {},
     "output_type": "display_data"
    },
    {
     "data": {
      "text/html": [
       "<table>\n",
       "    <thead>\n",
       "        <tr>\n",
       "        </tr>\n",
       "    </thead>\n",
       "    <tbody>\n",
       "    </tbody>\n",
       "</table>"
      ],
      "text/plain": [
       "++\n",
       "||\n",
       "++\n",
       "++"
      ]
     },
     "execution_count": 9,
     "metadata": {},
     "output_type": "execute_result"
    }
   ],
   "source": [
    "%%sql\n",
    "CREATE TABLE User(\n",
    "\tuser_id INTEGER PRIMARY KEY AUTOINCREMENT,\n",
    "\tfirst_name TEXT,\n",
    "\tlast_name TEXT,\n",
    "\tdate_of_birth DATE,\n",
    "\taddress TEXT,\n",
    "\tphone_number TEXT,\n",
    "\tdate_joined DATE,\n",
    "\ttotal_charge INTEGER\n",
    ")"
   ]
  },
  {
   "cell_type": "code",
   "execution_count": 25,
   "id": "a41e2806-7663-4a75-8c33-d28e54f057f5",
   "metadata": {},
   "outputs": [
    {
     "data": {
      "text/html": [
       "<span style=\"None\">Running query in &#x27;sqlite:///library.db&#x27;</span>"
      ],
      "text/plain": [
       "Running query in 'sqlite:///library.db'"
      ]
     },
     "metadata": {},
     "output_type": "display_data"
    },
    {
     "data": {
      "text/html": [
       "<table>\n",
       "    <thead>\n",
       "        <tr>\n",
       "            <th>user_id</th>\n",
       "            <th>first_name</th>\n",
       "            <th>last_name</th>\n",
       "            <th>date_of_birth</th>\n",
       "            <th>address</th>\n",
       "            <th>phone_number</th>\n",
       "            <th>date_joined</th>\n",
       "            <th>total_charge</th>\n",
       "        </tr>\n",
       "    </thead>\n",
       "    <tbody>\n",
       "        <tr>\n",
       "            <td>1</td>\n",
       "            <td>Steve</td>\n",
       "            <td>Jobs</td>\n",
       "            <td>2000-10-08</td>\n",
       "            <td>1234 Apple Street</td>\n",
       "            <td>803-263-3394</td>\n",
       "            <td>2012-08-13</td>\n",
       "            <td>0</td>\n",
       "        </tr>\n",
       "        <tr>\n",
       "            <td>2</td>\n",
       "            <td>Julius</td>\n",
       "            <td>Caesar</td>\n",
       "            <td>0100-07-12</td>\n",
       "            <td>00186 Rome, Italy</td>\n",
       "            <td>800-840-840</td>\n",
       "            <td>2023-03-15</td>\n",
       "            <td>0</td>\n",
       "        </tr>\n",
       "        <tr>\n",
       "            <td>3</td>\n",
       "            <td>Jeff</td>\n",
       "            <td>Mneme</td>\n",
       "            <td>2023-01-01</td>\n",
       "            <td>1870 Hyoksin Street, Pyongyang, North Korea</td>\n",
       "            <td>123-456-7890</td>\n",
       "            <td>2024-05-07</td>\n",
       "            <td>9001</td>\n",
       "        </tr>\n",
       "        <tr>\n",
       "            <td>4</td>\n",
       "            <td>Igor</td>\n",
       "            <td>Igorovich</td>\n",
       "            <td>1986-04-26</td>\n",
       "            <td>Chernobyl Exclusion Zone, Pripyat, Ukraine</td>\n",
       "            <td>926-103-6752</td>\n",
       "            <td>2013-12-11</td>\n",
       "            <td>0</td>\n",
       "        </tr>\n",
       "        <tr>\n",
       "            <td>5</td>\n",
       "            <td>Anatoly</td>\n",
       "            <td>Dyatlov</td>\n",
       "            <td>1931-03-03</td>\n",
       "            <td>02000, Kyiv, Ukraine</td>\n",
       "            <td>900-318-6027</td>\n",
       "            <td>2020-12-13</td>\n",
       "            <td>0</td>\n",
       "        </tr>\n",
       "        <tr>\n",
       "            <td>6</td>\n",
       "            <td>Goku</td>\n",
       "            <td>Dragonball</td>\n",
       "            <td>1989-04-26</td>\n",
       "            <td>2515, Tokyo, Japan</td>\n",
       "            <td>813-352-5610</td>\n",
       "            <td>2019-07-18</td>\n",
       "            <td>0</td>\n",
       "        </tr>\n",
       "        <tr>\n",
       "            <td>7</td>\n",
       "            <td>Bingus</td>\n",
       "            <td>Floppa</td>\n",
       "            <td>0001-01-01</td>\n",
       "            <td>ISS, Low-Earth Orbit</td>\n",
       "            <td>252-186-0131</td>\n",
       "            <td>2025-03-06</td>\n",
       "            <td>0</td>\n",
       "        </tr>\n",
       "        <tr>\n",
       "            <td>8</td>\n",
       "            <td>Alexander</td>\n",
       "            <td>TheGreat</td>\n",
       "            <td>0356-07-20</td>\n",
       "            <td>32306, Pella, Macedonia</td>\n",
       "            <td>210-071-4197</td>\n",
       "            <td>2023-06-10</td>\n",
       "            <td>0</td>\n",
       "        </tr>\n",
       "        <tr>\n",
       "            <td>9</td>\n",
       "            <td>Genghis</td>\n",
       "            <td>Khan</td>\n",
       "            <td>1162-04-15</td>\n",
       "            <td>5104, Khentii, Mongolia</td>\n",
       "            <td>976-117-5143</td>\n",
       "            <td>2017-08-18</td>\n",
       "            <td>2000</td>\n",
       "        </tr>\n",
       "    </tbody>\n",
       "</table>"
      ],
      "text/plain": [
       "+---------+------------+------------+---------------+---------------------------------------------+--------------+-------------+--------------+\n",
       "| user_id | first_name | last_name  | date_of_birth |                   address                   | phone_number | date_joined | total_charge |\n",
       "+---------+------------+------------+---------------+---------------------------------------------+--------------+-------------+--------------+\n",
       "|    1    |   Steve    |    Jobs    |   2000-10-08  |              1234 Apple Street              | 803-263-3394 |  2012-08-13 |      0       |\n",
       "|    2    |   Julius   |   Caesar   |   0100-07-12  |              00186 Rome, Italy              | 800-840-840  |  2023-03-15 |      0       |\n",
       "|    3    |    Jeff    |   Mneme    |   2023-01-01  | 1870 Hyoksin Street, Pyongyang, North Korea | 123-456-7890 |  2024-05-07 |     9001     |\n",
       "|    4    |    Igor    | Igorovich  |   1986-04-26  |  Chernobyl Exclusion Zone, Pripyat, Ukraine | 926-103-6752 |  2013-12-11 |      0       |\n",
       "|    5    |  Anatoly   |  Dyatlov   |   1931-03-03  |             02000, Kyiv, Ukraine            | 900-318-6027 |  2020-12-13 |      0       |\n",
       "|    6    |    Goku    | Dragonball |   1989-04-26  |              2515, Tokyo, Japan             | 813-352-5610 |  2019-07-18 |      0       |\n",
       "|    7    |   Bingus   |   Floppa   |   0001-01-01  |             ISS, Low-Earth Orbit            | 252-186-0131 |  2025-03-06 |      0       |\n",
       "|    8    | Alexander  |  TheGreat  |   0356-07-20  |           32306, Pella, Macedonia           | 210-071-4197 |  2023-06-10 |      0       |\n",
       "|    9    |  Genghis   |    Khan    |   1162-04-15  |           5104, Khentii, Mongolia           | 976-117-5143 |  2017-08-18 |     2000     |\n",
       "+---------+------------+------------+---------------+---------------------------------------------+--------------+-------------+--------------+"
      ]
     },
     "execution_count": 25,
     "metadata": {},
     "output_type": "execute_result"
    }
   ],
   "source": [
    "%sql select * from user;"
   ]
  },
  {
   "cell_type": "code",
   "execution_count": 13,
   "id": "8e2d4d0a-6e47-4465-8e06-be8598002f2e",
   "metadata": {},
   "outputs": [
    {
     "data": {
      "text/html": [
       "<span style=\"None\">Running query in &#x27;sqlite:///library.db&#x27;</span>"
      ],
      "text/plain": [
       "Running query in 'sqlite:///library.db'"
      ]
     },
     "metadata": {},
     "output_type": "display_data"
    },
    {
     "data": {
      "text/html": [
       "<table>\n",
       "    <thead>\n",
       "        <tr>\n",
       "        </tr>\n",
       "    </thead>\n",
       "    <tbody>\n",
       "    </tbody>\n",
       "</table>"
      ],
      "text/plain": [
       "++\n",
       "||\n",
       "++\n",
       "++"
      ]
     },
     "execution_count": 13,
     "metadata": {},
     "output_type": "execute_result"
    }
   ],
   "source": [
    "%%sql\n",
    "CREATE TABLE Loan(\n",
    "\tloan_id INTEGER PRIMARY KEY AUTOINCREMENT,\n",
    "    record_id INTEGER,\n",
    "\tuser_id INTEGER,\n",
    "\tloan_date DATE,\n",
    "\tdue_date DATE,\n",
    "\treturn_date DATE,\n",
    "\tfine_charged INTEGER,\n",
    "    FOREIGN KEY (record_id) REFERENCES Record(record_id) ON UPDATE CASCADE,\n",
    "\tFOREIGN KEY (user_id) REFERENCES User(user_id) ON UPDATE CASCADE\n",
    ")"
   ]
  },
  {
   "cell_type": "code",
   "execution_count": 15,
   "id": "af17746f-6014-45a9-b4c2-e6ecb8c7676e",
   "metadata": {},
   "outputs": [
    {
     "data": {
      "text/html": [
       "<span style=\"None\">Running query in &#x27;sqlite:///library.db&#x27;</span>"
      ],
      "text/plain": [
       "Running query in 'sqlite:///library.db'"
      ]
     },
     "metadata": {},
     "output_type": "display_data"
    },
    {
     "data": {
      "text/html": [
       "<table>\n",
       "    <thead>\n",
       "        <tr>\n",
       "        </tr>\n",
       "    </thead>\n",
       "    <tbody>\n",
       "    </tbody>\n",
       "</table>"
      ],
      "text/plain": [
       "++\n",
       "||\n",
       "++\n",
       "++"
      ]
     },
     "execution_count": 15,
     "metadata": {},
     "output_type": "execute_result"
    }
   ],
   "source": [
    "%%sql\n",
    "CREATE TABLE Event(\n",
    "\tevent_id INTEGER PRIMARY KEY AUTOINCREMENT,\n",
    "\tevent_name TEXT,\n",
    "\tevent_type TEXT,\n",
    "\tevent_location TEXT, -- Composite Attribute?\n",
    "\tage_range TEXT,\n",
    "\tevent_time DATE\n",
    ")"
   ]
  },
  {
   "cell_type": "code",
   "execution_count": 17,
   "id": "ac3e557b-4404-4054-933d-18b835cd5619",
   "metadata": {},
   "outputs": [
    {
     "data": {
      "text/html": [
       "<span style=\"None\">Running query in &#x27;sqlite:///library.db&#x27;</span>"
      ],
      "text/plain": [
       "Running query in 'sqlite:///library.db'"
      ]
     },
     "metadata": {},
     "output_type": "display_data"
    },
    {
     "data": {
      "text/html": [
       "<table>\n",
       "    <thead>\n",
       "        <tr>\n",
       "        </tr>\n",
       "    </thead>\n",
       "    <tbody>\n",
       "    </tbody>\n",
       "</table>"
      ],
      "text/plain": [
       "++\n",
       "||\n",
       "++\n",
       "++"
      ]
     },
     "execution_count": 17,
     "metadata": {},
     "output_type": "execute_result"
    }
   ],
   "source": [
    "%%sql\n",
    "CREATE TABLE Employee(\n",
    "\temployee_id INTEGER PRIMARY KEY AUTOINCREMENT,\n",
    "\temployee_name TEXT,\n",
    "\temployee_dob DATE,\n",
    "\tphone_number TEXT,\n",
    "\taddress TEXT,\n",
    "\temployement_date DATE,\n",
    "\tsalary DOUBLE\n",
    ")"
   ]
  },
  {
   "cell_type": "code",
   "execution_count": 7,
   "id": "fae24816-0ff1-4a28-8bf4-c70aa97fde1d",
   "metadata": {},
   "outputs": [
    {
     "data": {
      "text/html": [
       "<span style=\"None\">Running query in &#x27;sqlite:///library.db&#x27;</span>"
      ],
      "text/plain": [
       "Running query in 'sqlite:///library.db'"
      ]
     },
     "metadata": {},
     "output_type": "display_data"
    },
    {
     "data": {
      "text/html": [
       "<table>\n",
       "    <thead>\n",
       "        <tr>\n",
       "        </tr>\n",
       "    </thead>\n",
       "    <tbody>\n",
       "    </tbody>\n",
       "</table>"
      ],
      "text/plain": [
       "++\n",
       "||\n",
       "++\n",
       "++"
      ]
     },
     "execution_count": 7,
     "metadata": {},
     "output_type": "execute_result"
    }
   ],
   "source": [
    "%%sql\n",
    "CREATE TABLE Record(\n",
    "\trecord_id INTEGER PRIMARY KEY AUTOINCREMENT,\n",
    "    item_id INTEGER,\n",
    "\tavailable BOOLEAN,\n",
    "    notes TEXT,\n",
    "    FOREIGN KEY (item_id) REFERENCES Catalog(item_id) ON UPDATE CASCADE\n",
    ")"
   ]
  },
  {
   "cell_type": "code",
   "execution_count": 9,
   "id": "9ddcef53-d66a-4116-bcb4-60dca392bba8",
   "metadata": {},
   "outputs": [
    {
     "data": {
      "text/html": [
       "<span style=\"None\">Running query in &#x27;sqlite:///library.db&#x27;</span>"
      ],
      "text/plain": [
       "Running query in 'sqlite:///library.db'"
      ]
     },
     "metadata": {},
     "output_type": "display_data"
    },
    {
     "data": {
      "text/html": [
       "<table>\n",
       "    <thead>\n",
       "        <tr>\n",
       "        </tr>\n",
       "    </thead>\n",
       "    <tbody>\n",
       "    </tbody>\n",
       "</table>"
      ],
      "text/plain": [
       "++\n",
       "||\n",
       "++\n",
       "++"
      ]
     },
     "execution_count": 9,
     "metadata": {},
     "output_type": "execute_result"
    }
   ],
   "source": [
    "%%sql\n",
    "CREATE TABLE Volunteer(\n",
    "    employee_id INTEGER,\n",
    "    user_id INTEGER,\n",
    "    PRIMARY KEY (employee_id, user_id)\n",
    "    FOREIGN KEY (employee_id) REFERENCES Employee(employee_id) ON UPDATE CASCADE,\n",
    "    FOREIGN KEY (user_id) REFERENCES User(user_id) ON UPDATE CASCADE\n",
    ")"
   ]
  },
  {
   "cell_type": "code",
   "execution_count": 5,
   "id": "b75df1c0-053a-4800-b562-ccaf2957a3a9",
   "metadata": {
    "scrolled": true
   },
   "outputs": [
    {
     "data": {
      "text/html": [
       "<span style=\"None\">Running query in &#x27;sqlite:///library.db&#x27;</span>"
      ],
      "text/plain": [
       "Running query in 'sqlite:///library.db'"
      ]
     },
     "metadata": {},
     "output_type": "display_data"
    },
    {
     "name": "stderr",
     "output_type": "stream",
     "text": [
      "RuntimeError: (sqlite3.OperationalError) table Catalog has no column named publication_year\n",
      "[SQL: INSERT INTO Catalog (item_id, item_type, title, publication_year, author_name, publisher)\n",
      "VALUES\n",
      "    (1, 'Book',     '1984',                             1949, 'George Orwell',                    'Secker & Warburg'),\n",
      "    (2, 'Book',     'To Kill a Mockingbird',            1960, 'Harper Lee',                       'J.B. Lippincott & Co.'),\n",
      "    (3, 'Magazine', 'National Geographic (June 2023)',  2023, '',                                 'National Geographic Society'),\n",
      "    (4, 'Journal',  'Nature (Vol. 600)',                2022, '',                                 'Springer Nature'),\n",
      "    (5, 'E-Book',   'Sapiens: A Brief History of Humankind', 2011, 'Yuval Noah Harari',          'Harper');]\n",
      "(Background on this error at: https://sqlalche.me/e/20/e3q8)\n",
      "If you need help solving this issue, send us a message: https://ploomber.io/community\n"
     ]
    }
   ],
   "source": [
    "%%sql\n",
    "INSERT INTO Catalog (item_id, item_type, title, publication_date, author_or_artist, publisher)\n",
    "VALUES \n",
    "    (1, 'Book',     '1984',                             '1949-10-10', 'George Orwell',                    'Secker & Warburg'),\n",
    "    (2, 'Book',     'To Kill a Mockingbird',            '1960-01-25', 'Harper Lee',                       'J.B. Lippincott & Co.'),\n",
    "    (3, 'Magazine', 'National Geographic (June 2023)',  '1934-05-14', '',                                 'National Geographic Society'),\n",
    "    (4, 'Journal',  'Nature (Vol. 600)',                '', '',                                 'Springer Nature'),\n",
    "    (5, 'E-Book',   'Sapiens: A Brief History of Humankind', 2011, 'Yuval Noah Harari',          'Harper');"
   ]
  },
  {
   "cell_type": "code",
   "execution_count": 5,
   "id": "4b2820fc-a09a-4a79-b9f6-318d2a5ca43a",
   "metadata": {
    "scrolled": true
   },
   "outputs": [
    {
     "data": {
      "text/html": [
       "<span style=\"None\">Running query in &#x27;sqlite:///library.db&#x27;</span>"
      ],
      "text/plain": [
       "Running query in 'sqlite:///library.db'"
      ]
     },
     "metadata": {},
     "output_type": "display_data"
    },
    {
     "name": "stderr",
     "output_type": "stream",
     "text": [
      "RuntimeError: (sqlite3.OperationalError) table Catalog has no column named publication_year\n",
      "[SQL: INSERT INTO Catalog (item_id, item_type, title, publication_year, author_name, publisher)\n",
      "VALUES\n",
      "    (1, 'Book',     '1984',                             1949, 'George Orwell',                    'Secker & Warburg'),\n",
      "    (2, 'Book',     'To Kill a Mockingbird',            1960, 'Harper Lee',                       'J.B. Lippincott & Co.'),\n",
      "    (3, 'Magazine', 'National Geographic (June 2023)',  2023, '',                                 'National Geographic Society'),\n",
      "    (4, 'Journal',  'Nature (Vol. 600)',                2022, '',                                 'Springer Nature'),\n",
      "    (5, 'E-Book',   'Sapiens: A Brief History of Humankind', 2011, 'Yuval Noah Harari',          'Harper');]\n",
      "(Background on this error at: https://sqlalche.me/e/20/e3q8)\n",
      "If you need help solving this issue, send us a message: https://ploomber.io/community\n"
     ]
    }
   ],
   "source": [
    "%%sql\n",
    "INSERT INTO Catalog (item_id, item_type, title, publication_date, author_or_artist, publisher)\n",
    "VALUES \n",
    "    (1, 'Book',     '1984',                             '1949-10-10', 'George Orwell',                    'Secker & Warburg'),\n",
    "    (2, 'Book',     'To Kill a Mockingbird',            '1960-01-25', 'Harper Lee',                       'J.B. Lippincott & Co.'),\n",
    "    (3, 'Magazine', 'National Geographic (June 2023)',  '1934-05-14', '',                                 'National Geographic Society'),\n",
    "    (4, 'Journal',  'Nature (Vol. 600)',                '', '',                                 'Springer Nature'),\n",
    "    (5, 'E-Book',   'Sapiens: A Brief History of Humankind', 2011, 'Yuval Noah Harari',          'Harper');"
   ]
  },
  {
   "cell_type": "code",
   "execution_count": 15,
   "id": "9d3ab806-9f6d-4984-bfad-41d1192c2549",
   "metadata": {},
   "outputs": [
    {
     "data": {
      "text/html": [
       "<span style=\"None\">Running query in &#x27;sqlite:///library.db&#x27;</span>"
      ],
      "text/plain": [
       "Running query in 'sqlite:///library.db'"
      ]
     },
     "metadata": {},
     "output_type": "display_data"
    },
    {
     "data": {
      "text/html": [
       "<table>\n",
       "    <thead>\n",
       "        <tr>\n",
       "            <th>employee_id</th>\n",
       "            <th>user_id</th>\n",
       "        </tr>\n",
       "    </thead>\n",
       "    <tbody>\n",
       "    </tbody>\n",
       "</table>"
      ],
      "text/plain": [
       "+-------------+---------+\n",
       "| employee_id | user_id |\n",
       "+-------------+---------+\n",
       "+-------------+---------+"
      ]
     },
     "execution_count": 15,
     "metadata": {},
     "output_type": "execute_result"
    }
   ],
   "source": [
    "%%sql\n",
    "SELECT *\n",
    "FROM Volunteer"
   ]
  },
  {
   "cell_type": "code",
   "execution_count": 14,
   "id": "3009db77-3936-413c-b4af-38bbf313ec36",
   "metadata": {},
   "outputs": [
    {
     "data": {
      "text/html": [
       "<span style=\"None\">Running query in &#x27;sqlite:///library.db&#x27;</span>"
      ],
      "text/plain": [
       "Running query in 'sqlite:///library.db'"
      ]
     },
     "metadata": {},
     "output_type": "display_data"
    },
    {
     "data": {
      "text/html": [
       "<span style=\"color: green\">1 rows affected.</span>"
      ],
      "text/plain": [
       "1 rows affected."
      ]
     },
     "metadata": {},
     "output_type": "display_data"
    },
    {
     "data": {
      "text/html": [
       "<table>\n",
       "    <thead>\n",
       "        <tr>\n",
       "        </tr>\n",
       "    </thead>\n",
       "    <tbody>\n",
       "    </tbody>\n",
       "</table>"
      ],
      "text/plain": [
       "++\n",
       "||\n",
       "++\n",
       "++"
      ]
     },
     "execution_count": 14,
     "metadata": {},
     "output_type": "execute_result"
    }
   ],
   "source": [
    "%%sql\n",
    "DELETE\n",
    "FROM Volunteer"
   ]
  },
  {
   "cell_type": "code",
   "execution_count": null,
   "id": "678620e7-92a3-4209-8874-ba92fd11e625",
   "metadata": {},
   "outputs": [],
   "source": []
  }
 ],
 "metadata": {
  "kernelspec": {
   "display_name": "Python 3 (ipykernel)",
   "language": "python",
   "name": "python3"
  },
  "language_info": {
   "codemirror_mode": {
    "name": "ipython",
    "version": 3
   },
   "file_extension": ".py",
   "mimetype": "text/x-python",
   "name": "python",
   "nbconvert_exporter": "python",
   "pygments_lexer": "ipython3",
   "version": "3.12.3"
  }
 },
 "nbformat": 4,
 "nbformat_minor": 5
}
