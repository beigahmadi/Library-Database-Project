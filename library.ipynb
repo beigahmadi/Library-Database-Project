{
 "cells": [
  {
   "cell_type": "code",
   "execution_count": 1,
   "id": "099f44b1-82de-4c06-a246-dc2a73453557",
   "metadata": {},
   "outputs": [],
   "source": [
    "%load_ext sql"
   ]
  },
  {
   "cell_type": "code",
   "execution_count": 2,
   "id": "18694a35-51fc-4352-88e0-6fca3c2d1233",
   "metadata": {},
   "outputs": [
    {
     "data": {
      "text/html": [
       "<span style=\"None\">Connecting to &#x27;sqlite:///library.db&#x27;</span>"
      ],
      "text/plain": [
       "Connecting to 'sqlite:///library.db'"
      ]
     },
     "metadata": {},
     "output_type": "display_data"
    }
   ],
   "source": [
    "%sql sqlite:///library.db"
   ]
  },
  {
   "cell_type": "code",
   "execution_count": 5,
   "id": "4eef1ac6-fbbc-479a-bb11-d633863f4339",
   "metadata": {},
   "outputs": [
    {
     "data": {
      "text/html": [
       "<span style=\"None\">Running query in &#x27;sqlite:///library.db&#x27;</span>"
      ],
      "text/plain": [
       "Running query in 'sqlite:///library.db'"
      ]
     },
     "metadata": {},
     "output_type": "display_data"
    },
    {
     "data": {
      "text/html": [
       "<table>\n",
       "    <thead>\n",
       "        <tr>\n",
       "        </tr>\n",
       "    </thead>\n",
       "    <tbody>\n",
       "    </tbody>\n",
       "</table>"
      ],
      "text/plain": [
       "++\n",
       "||\n",
       "++\n",
       "++"
      ]
     },
     "execution_count": 5,
     "metadata": {},
     "output_type": "execute_result"
    }
   ],
   "source": [
    "%%sql\n",
    "CREATE TABLE Catalog(\n",
    "\titem_id INTEGER PRIMARY KEY AUTOINCREMENT,\n",
    "\titem_type TEXT,\n",
    "\ttitle TEXT,\n",
    "\tpublication_date DATE,\n",
    "\tauthor_or_artist TEXT,\n",
    "\tpublisher TEXT\n",
    ")"
   ]
  },
  {
   "cell_type": "code",
   "execution_count": 6,
   "id": "9dc68110-2fca-4edf-8384-70ff76222b5e",
   "metadata": {},
   "outputs": [
    {
     "data": {
      "text/html": [
       "<span style=\"None\">Running query in &#x27;sqlite:///library.db&#x27;</span>"
      ],
      "text/plain": [
       "Running query in 'sqlite:///library.db'"
      ]
     },
     "metadata": {},
     "output_type": "display_data"
    },
    {
     "data": {
      "text/html": [
       "<table>\n",
       "    <thead>\n",
       "        <tr>\n",
       "            <th>item_id</th>\n",
       "            <th>item_type</th>\n",
       "            <th>title</th>\n",
       "            <th>publication_date</th>\n",
       "            <th>author_or_artist</th>\n",
       "            <th>publisher</th>\n",
       "        </tr>\n",
       "    </thead>\n",
       "    <tbody>\n",
       "    </tbody>\n",
       "</table>"
      ],
      "text/plain": [
       "+---------+-----------+-------+------------------+------------------+-----------+\n",
       "| item_id | item_type | title | publication_date | author_or_artist | publisher |\n",
       "+---------+-----------+-------+------------------+------------------+-----------+\n",
       "+---------+-----------+-------+------------------+------------------+-----------+"
      ]
     },
     "execution_count": 6,
     "metadata": {},
     "output_type": "execute_result"
    }
   ],
   "source": [
    "%sql SELECT * FROM Catalog"
   ]
  },
  {
   "cell_type": "code",
   "execution_count": 9,
   "id": "1ed9679b-32ab-48fe-b4bb-15c06c77918b",
   "metadata": {},
   "outputs": [
    {
     "data": {
      "text/html": [
       "<span style=\"None\">Running query in &#x27;sqlite:///library.db&#x27;</span>"
      ],
      "text/plain": [
       "Running query in 'sqlite:///library.db'"
      ]
     },
     "metadata": {},
     "output_type": "display_data"
    },
    {
     "data": {
      "text/html": [
       "<table>\n",
       "    <thead>\n",
       "        <tr>\n",
       "        </tr>\n",
       "    </thead>\n",
       "    <tbody>\n",
       "    </tbody>\n",
       "</table>"
      ],
      "text/plain": [
       "++\n",
       "||\n",
       "++\n",
       "++"
      ]
     },
     "execution_count": 9,
     "metadata": {},
     "output_type": "execute_result"
    }
   ],
   "source": [
    "%%sql\n",
    "CREATE TABLE User(\n",
    "\tuser_id INTEGER PRIMARY KEY AUTOINCREMENT,\n",
    "\tfirst_name TEXT,\n",
    "\tlast_name TEXT,\n",
    "\tdate_of_birth DATE,\n",
    "\taddress TEXT,\n",
    "\tphone_number TEXT,\n",
    "\tdate_joined DATE,\n",
    "\ttotal_charge INTEGER\n",
    ")"
   ]
  },
  {
   "cell_type": "code",
   "execution_count": 10,
   "id": "a41e2806-7663-4a75-8c33-d28e54f057f5",
   "metadata": {},
   "outputs": [
    {
     "data": {
      "text/html": [
       "<span style=\"None\">Running query in &#x27;sqlite:///library.db&#x27;</span>"
      ],
      "text/plain": [
       "Running query in 'sqlite:///library.db'"
      ]
     },
     "metadata": {},
     "output_type": "display_data"
    },
    {
     "data": {
      "text/html": [
       "<table>\n",
       "    <thead>\n",
       "        <tr>\n",
       "            <th>user_id</th>\n",
       "            <th>first_name</th>\n",
       "            <th>last_name</th>\n",
       "            <th>date_of_birth</th>\n",
       "            <th>address</th>\n",
       "            <th>phone_number</th>\n",
       "            <th>date_joined</th>\n",
       "            <th>total_charge</th>\n",
       "        </tr>\n",
       "    </thead>\n",
       "    <tbody>\n",
       "    </tbody>\n",
       "</table>"
      ],
      "text/plain": [
       "+---------+------------+-----------+---------------+---------+--------------+-------------+--------------+\n",
       "| user_id | first_name | last_name | date_of_birth | address | phone_number | date_joined | total_charge |\n",
       "+---------+------------+-----------+---------------+---------+--------------+-------------+--------------+\n",
       "+---------+------------+-----------+---------------+---------+--------------+-------------+--------------+"
      ]
     },
     "execution_count": 10,
     "metadata": {},
     "output_type": "execute_result"
    }
   ],
   "source": [
    "%sql select * from user;"
   ]
  },
  {
   "cell_type": "code",
   "execution_count": 13,
   "id": "8e2d4d0a-6e47-4465-8e06-be8598002f2e",
   "metadata": {},
   "outputs": [
    {
     "data": {
      "text/html": [
       "<span style=\"None\">Running query in &#x27;sqlite:///library.db&#x27;</span>"
      ],
      "text/plain": [
       "Running query in 'sqlite:///library.db'"
      ]
     },
     "metadata": {},
     "output_type": "display_data"
    },
    {
     "data": {
      "text/html": [
       "<table>\n",
       "    <thead>\n",
       "        <tr>\n",
       "        </tr>\n",
       "    </thead>\n",
       "    <tbody>\n",
       "    </tbody>\n",
       "</table>"
      ],
      "text/plain": [
       "++\n",
       "||\n",
       "++\n",
       "++"
      ]
     },
     "execution_count": 13,
     "metadata": {},
     "output_type": "execute_result"
    }
   ],
   "source": [
    "%%sql\n",
    "CREATE TABLE Loan(\n",
    "\tloan_id INTEGER PRIMARY KEY AUTOINCREMENT,\n",
    "    record_id INTEGER,\n",
    "\tuser_id INTEGER,\n",
    "\tloan_date DATE,\n",
    "\tdue_date DATE,\n",
    "\treturn_date DATE,\n",
    "\tfine_charged INTEGER,\n",
    "    FOREIGN KEY (record_id) REFERENCES Record(record_id) ON UPDATE CASCADE,\n",
    "\tFOREIGN KEY (user_id) REFERENCES User(user_id) ON UPDATE CASCADE\n",
    ")"
   ]
  },
  {
   "cell_type": "code",
   "execution_count": 15,
   "id": "af17746f-6014-45a9-b4c2-e6ecb8c7676e",
   "metadata": {},
   "outputs": [
    {
     "data": {
      "text/html": [
       "<span style=\"None\">Running query in &#x27;sqlite:///library.db&#x27;</span>"
      ],
      "text/plain": [
       "Running query in 'sqlite:///library.db'"
      ]
     },
     "metadata": {},
     "output_type": "display_data"
    },
    {
     "data": {
      "text/html": [
       "<table>\n",
       "    <thead>\n",
       "        <tr>\n",
       "        </tr>\n",
       "    </thead>\n",
       "    <tbody>\n",
       "    </tbody>\n",
       "</table>"
      ],
      "text/plain": [
       "++\n",
       "||\n",
       "++\n",
       "++"
      ]
     },
     "execution_count": 15,
     "metadata": {},
     "output_type": "execute_result"
    }
   ],
   "source": [
    "%%sql\n",
    "CREATE TABLE Event(\n",
    "\tevent_id INTEGER PRIMARY KEY AUTOINCREMENT,\n",
    "\tevent_name TEXT,\n",
    "\tevent_type TEXT,\n",
    "\tevent_location TEXT, -- Composite Attribute?\n",
    "\tage_range TEXT,\n",
    "\tevent_time DATE\n",
    ")"
   ]
  },
  {
   "cell_type": "code",
   "execution_count": 17,
   "id": "ac3e557b-4404-4054-933d-18b835cd5619",
   "metadata": {},
   "outputs": [
    {
     "data": {
      "text/html": [
       "<span style=\"None\">Running query in &#x27;sqlite:///library.db&#x27;</span>"
      ],
      "text/plain": [
       "Running query in 'sqlite:///library.db'"
      ]
     },
     "metadata": {},
     "output_type": "display_data"
    },
    {
     "data": {
      "text/html": [
       "<table>\n",
       "    <thead>\n",
       "        <tr>\n",
       "        </tr>\n",
       "    </thead>\n",
       "    <tbody>\n",
       "    </tbody>\n",
       "</table>"
      ],
      "text/plain": [
       "++\n",
       "||\n",
       "++\n",
       "++"
      ]
     },
     "execution_count": 17,
     "metadata": {},
     "output_type": "execute_result"
    }
   ],
   "source": [
    "%%sql\n",
    "CREATE TABLE Employee(\n",
    "\temployee_id INTEGER PRIMARY KEY AUTOINCREMENT,\n",
    "\temployee_name TEXT,\n",
    "\temployee_dob DATE,\n",
    "\tphone_number TEXT,\n",
    "\taddress TEXT,\n",
    "\temployement_date DATE,\n",
    "\tsalary DOUBLE\n",
    ")"
   ]
  },
  {
   "cell_type": "code",
   "execution_count": 19,
   "id": "fae24816-0ff1-4a28-8bf4-c70aa97fde1d",
   "metadata": {},
   "outputs": [
    {
     "data": {
      "text/html": [
       "<span style=\"None\">Running query in &#x27;sqlite:///library.db&#x27;</span>"
      ],
      "text/plain": [
       "Running query in 'sqlite:///library.db'"
      ]
     },
     "metadata": {},
     "output_type": "display_data"
    },
    {
     "data": {
      "text/html": [
       "<table>\n",
       "    <thead>\n",
       "        <tr>\n",
       "        </tr>\n",
       "    </thead>\n",
       "    <tbody>\n",
       "    </tbody>\n",
       "</table>"
      ],
      "text/plain": [
       "++\n",
       "||\n",
       "++\n",
       "++"
      ]
     },
     "execution_count": 19,
     "metadata": {},
     "output_type": "execute_result"
    }
   ],
   "source": [
    "%%sql\n",
    "CREATE TABLE Record(\n",
    "\trecord_id INTEGER PRIMARY KEY AUTOINCREMENT,\n",
    "    item_id INTEGER,\n",
    "\tstatus TEXT,\n",
    "    notes TEXT,\n",
    "    FOREIGN KEY (item_id) REFERENCES Catalog(item_id) ON UPDATE CASCADE\n",
    ")"
   ]
  },
  {
   "cell_type": "code",
   "execution_count": null,
   "id": "b75df1c0-053a-4800-b562-ccaf2957a3a9",
   "metadata": {},
   "outputs": [],
   "source": []
  }
 ],
 "metadata": {
  "kernelspec": {
   "display_name": "Python 3 (ipykernel)",
   "language": "python",
   "name": "python3"
  },
  "language_info": {
   "codemirror_mode": {
    "name": "ipython",
    "version": 3
   },
   "file_extension": ".py",
   "mimetype": "text/x-python",
   "name": "python",
   "nbconvert_exporter": "python",
   "pygments_lexer": "ipython3",
   "version": "3.12.3"
  }
 },
 "nbformat": 4,
 "nbformat_minor": 5
}
